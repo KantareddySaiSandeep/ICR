{
 "cells": [
  {
   "cell_type": "markdown",
   "metadata": {},
   "source": [
    "# Importing Required Files"
   ]
  },
  {
   "cell_type": "code",
   "execution_count": 36,
   "metadata": {},
   "outputs": [],
   "source": [
    "import pandas as pd, numpy as np, math, glob, os, cv2, matplotlib.pyplot as plt\n",
    "import csv, cv2, numpy as np, pandas as pd, matplotlib.pyplot as plt, string, PIL, keras, pymysql\n",
    "from sklearn.feature_extraction.image import extract_patches_2d\n",
    "import collections, time, pickle, glob, os, cv2, os.path, math\n",
    "from keras.models import load_model,model_from_json\n",
    "from collections import OrderedDict, Counter\n",
    "from skimage.transform import resize\n",
    "from sklearn.externals import joblib\n",
    "from sklearn import preprocessing\n",
    "from skimage.feature import hog\n",
    "from fuzzywuzzy import process\n",
    "from scipy.stats import boxcox\n",
    "from PIL import ImageEnhance\n",
    "from fuzzywuzzy import fuzz\n",
    "from pandasql import sqldf\n",
    "from scipy import ndimage\n",
    "from PIL import Image\n",
    "from os import walk\n",
    "#import MySQLdb\n",
    "import fuzzywuzzy\n",
    "import warnings\n",
    "warnings.filterwarnings('ignore')"
   ]
  },
  {
   "cell_type": "markdown",
   "metadata": {},
   "source": [
    "# CSV FILE"
   ]
  },
  {
   "cell_type": "code",
   "execution_count": 37,
   "metadata": {},
   "outputs": [],
   "source": [
    "df = pd.read_excel('/home/Sandeep/Bagic_field_dimensions.xlsx')"
   ]
  },
  {
   "cell_type": "markdown",
   "metadata": {},
   "source": [
    "# GRID REMOVAL AUTOMATION"
   ]
  },
  {
   "cell_type": "code",
   "execution_count": 4,
   "metadata": {},
   "outputs": [],
   "source": [
    "# for image_path in glob.glob(os.path.join('/KALpydev/new_Cropped/','*/*/*.jpg')):\n",
    "#     img = cv2.imread(image_path,0)\n",
    "\n",
    "#     if img is not None:\n",
    "#         aname=image_path.split('/')[3].split('.')[0]\n",
    "#         print(aname)\n",
    "#         bname=image_path.split('/')[4].split('.')[0]\n",
    "#         print(bname)\n",
    "#         fname=image_path.split('/')[5].split('.')[0]\n",
    "#         print(fname)\n",
    "#         plt.figure(figsize=(12,12));plt.imshow(img);plt.show()\n",
    "#         try:\n",
    "#             kernel = np.ones(df.loc[df['FieldName']==\"'\"+fname+\"'\"]['Dilation'], np.uint8)\n",
    "#     #             kernel = np.ones((4,3), np.uint8)\n",
    "#             overlay = cv2.dilate(img, kernel, iterations = 1)\n",
    "#             kernel1 = np.ones(df.loc[df['FieldName']==\"'\"+fname+\"'\"]['Erosion'], np.uint8)\n",
    "#     #             kernel1 = np.ones((4,3),np.uint8)\n",
    "#             overlay = cv2.erode(overlay,kernel1,iterations = 1)\n",
    "#         except:\n",
    "#             pass\n",
    "#         #cv2.imwrite(\"/home/Sandeep/something1.jpg\", overlay)\n",
    "#         #overlay = cv2.threshold(img,0,255,cv2.THRESH_BINARY+cv2.THRESH_OTSU)[1]\n",
    "#         overlay = cv2.threshold(overlay,0,255,cv2.THRESH_BINARY+cv2.THRESH_OTSU)[1]\n",
    "#         overlay = overlay[int(overlay.shape[0]*0.1):int(overlay.shape[0]*0.9),:]\n",
    "#         #cv2.imwrite('/home/Arjun/files/'+fname+'.jpg', overlay)\n",
    "#         #print(overlay.shape)\n",
    "#         plt.imshow(overlay);plt.show()\n",
    "#         a = []\n",
    "#         for i in range(overlay.shape[1]):\n",
    "#             try:\n",
    "#                 if overlay[int(overlay.shape[0]*0.5),i]==0 and overlay[int(overlay.shape[0]*0.5),i+1]==0 and overlay[int(overlay.shape[0]*0.5),i+2]==0:\n",
    "#                     a.append(i)\n",
    "#             except IndexError:\n",
    "#                 pass\n",
    "\n",
    "\n",
    "\n",
    "\n",
    "#         which = image_path.split('/')[4].split('.')[0]\n",
    "\n",
    "#         if len(a)!=0:\n",
    "#             if which == \"Alpha Numeric\":\n",
    "#                 for i in df.loc[df['FieldName']==fname]['Step']:\n",
    "#                     for each in np.arange(start=a[0], stop=overlay.shape[1],step=i):\n",
    "#                         try:\n",
    "#                             for j in df.loc[df['FieldName']==fname]['GridWidth']:\n",
    "#                                 overlay[:,each:each+j] = np.ones((overlay.shape[0],j), dtype=int)*255\n",
    "#                         except :\n",
    "#                             pass\n",
    "#             else:\n",
    "#                 for i in df.loc[df['FieldName']==fname]['Step']:\n",
    "#                     for each in np.arange(start=a[0], stop=overlay.shape[1],step=i):\n",
    "#                         try:\n",
    "#                             for j in df.loc[df['FieldName']==fname]['GridWidth']:\n",
    "#                                 overlay[:,each:each+j] = np.ones((overlay.shape[0],j), dtype=int)*255\n",
    "#                         except :\n",
    "#                             pass\n",
    "#         plt.figure(figsize=(12,12));plt.imshow(overlay);plt.show()\n",
    "\n",
    "#     #kernel = np.ones((3,1), np.uint8)\n",
    "# #         kernel = np.ones((2,5), np.uint8)\n",
    "# #         overlay = cv2.erode(overlay, kernel, iterations = 1)\n",
    "#     #kernel1 = np.ones((3,1),np.uint8)\n",
    "#     #kernel1 = np.ones((4,3),np.uint8)\n",
    "#     #overlay = cv2.erode(overlay,kernel1,iterations = 1)\n",
    "#     print('/home/Sandeep/'+aname+'_WithoutGrid/'+bname+'/'+fname+'.jpg')\n",
    "    \n",
    "#     dirname = '/home/Sandeep/Without_Grid/'+aname+'_WithoutGrid/'+bname\n",
    "#     import os\n",
    "#     if not os.path.exists(dirname):\n",
    "#         os.makedirs(dirname)\n",
    "#     #os.mkdir(dirname)\n",
    "#     cv2.imwrite(os.path.join(dirname,fname+'.jpg'), overlay)\n",
    "\n",
    "#     #print(a)"
   ]
  },
  {
   "cell_type": "markdown",
   "metadata": {},
   "source": [
    "# CHARACTER EXTRACTION"
   ]
  },
  {
   "cell_type": "code",
   "execution_count": 44,
   "metadata": {},
   "outputs": [],
   "source": [
    "kantareddydef character_extraction(character_file, dico, model_char):\n",
    "    im = cv2.imread(character_file,0)\n",
    "    \n",
    "    if im is not None:\n",
    "        im1=im.copy()\n",
    "        plt.imshow(im1)\n",
    "        plt.show()\n",
    "        #blur=cv2.GaussianBlur(im1,(13,13),0)\n",
    "        \n",
    "        #Thresholding Image\n",
    "        ref = cv2.threshold(im1, 0, 255, cv2.THRESH_BINARY_INV | cv2.THRESH_OTSU)[1]\n",
    "        #print('ref',ref)\n",
    "        mask = np.zeros_like(ref)\n",
    "#         plt.imshow(mask)\n",
    "#         plt.show()\n",
    "        #print('mask',mask)\n",
    "        w = ref.shape[1]\n",
    "        #print(w)\n",
    "        shp = round(w * 0.15)\n",
    "        #print(shp)\n",
    "        if shp % 2 == 0:\n",
    "            \n",
    "            shp = shp + 1\n",
    "            #print(shp)\n",
    "\n",
    "        kr = cv2.getStructuringElement(cv2.MORPH_RECT,(shp,1))\n",
    "        er = cv2.erode(ref, kr, 1)\n",
    "        kr = cv2.getStructuringElement(cv2.MORPH_RECT,(shp,1))\n",
    "        dl = cv2.dilate(er, kr, 1)\n",
    "        OriImg2 = im.copy()\n",
    "        img = dl\n",
    "        OrimgCopy = dl\n",
    "        added= cv2.add(cv2.bitwise_not(ref), dl)\n",
    "#         plt.imshow(added)\n",
    "#         plt.show()\n",
    "        \n",
    "        (_, cnts, _) = cv2.findContours(cv2.bitwise_not(added).copy(), cv2.RETR_TREE, cv2.CHAIN_APPROX_SIMPLE)\n",
    "        cnts1 = [c for c in cnts if cv2.contourArea(c) < round(w*0.20)]    \n",
    "        for c in cnts1:\n",
    "            cv2.drawContours(mask, [c], -1, 255, 2)\n",
    "        plt.imshow(mask)\n",
    "        plt.show()\n",
    "        img_output = cv2.bitwise_not(cv2.add(added,mask))\n",
    "        plt.imshow(img_output)\n",
    "        plt.show()\n",
    "\n",
    "    \n",
    "        # For finding the contours\n",
    "        \n",
    "        img,ctrs,hier = cv2.findContours(img_output.copy(), cv2.RETR_EXTERNAL, cv2.CHAIN_APPROX_SIMPLE )\n",
    "        \n",
    "        #Contour Area\n",
    "        #print(ctrs)\n",
    "        \n",
    "#         areas = [cv2.contourArea(ctr) for ctr in ctrs]\n",
    "#         mean = np.mean(areas)\n",
    "#         x = 0\n",
    "#         i = []\n",
    "        \n",
    "        \n",
    "#         # For Contour Area \n",
    "        \n",
    "#         for area in areas:\n",
    "#             if area < (0.50 * mean):\n",
    "#                 i.extend([x])\n",
    "#                 x=x+1\n",
    "#             else:\n",
    "#                 x=x+1\n",
    "        \n",
    "#         print(area)\n",
    "        # Finding bounding rectangles \n",
    "        \n",
    "        rects = [cv2.boundingRect(ctr) for ctr in ctrs]\n",
    "        #print(\"rects\", rects)\n",
    "\n",
    "        # Making it into an ARRAY\n",
    "        rect2 = np.array(rects, 'int')\n",
    "        #print(\"rect2\", rect2.shape)\n",
    "        col = 0\n",
    "    \n",
    "        # Sorting the list\n",
    "        \n",
    "        try:\n",
    "            rect2 = rect2[np.argsort(rect2[:,col])]\n",
    "        except IndexError:\n",
    "            rect2 = rects\n",
    "            \n",
    "        #print(rect2)\n",
    "        li = []\n",
    "        s=\"\"\n",
    "#         plt.imshow(rect2)\n",
    "#         plt.show()\n",
    "        O_copy = OriImg2.copy()\n",
    "        d={}\n",
    "        cnt = 0\n",
    "        \n",
    "        # For drawing the rectangle \n",
    "        \n",
    "        for j,rect in enumerate(rect2):\n",
    "            leng = int(rect[3] * 1.05)\n",
    "            pt1 = int(rect[1] + rect[3] // 2 - leng // 2)\n",
    "            pt2 = int(rect[0] + rect[2] // 2 - leng // 2)\n",
    "            #print(leng,pt1,pt2)\n",
    "            roi = OriImg2[pt1:pt1+leng, pt2:pt2+leng]\n",
    "#             plt.imshow(roi)\n",
    "#             plt.show()\n",
    "            newroi=OriImg2[rect[1]:rect[1]+rect[3],rect[0]:rect[0]+rect[2]]\n",
    "#             plt.imshow(newroi)\n",
    "#             plt.show()\n",
    "            a_str=''\n",
    "            if roi.shape[0] >= 28 and roi.shape[1] >= 28:\n",
    "                roi = cv2.resize(roi, (28, 28), cv2.INTER_AREA)\n",
    "                newroi = cv2.resize(newroi, (28, 28), cv2.INTER_AREA)\n",
    "#                 plt.imshow(roi)\n",
    "#                 plt.show()\n",
    "#                 plt.imshow(newroi)\n",
    "#                 plt.show()\n",
    "                ret1, im_th1 = cv2.threshold(roi, 190, 255, cv2.THRESH_BINARY)\n",
    "                img = im_th1.astype('float32')\n",
    "                img = resize(img, (28,28), order=1, preserve_range=True)\n",
    "                img = img/255\n",
    "                img = resize(ones_padding(img), (28,28), order=1, preserve_range=True)\n",
    "                img = img.reshape((1,28,28,1))\n",
    "\n",
    "                a_str = model_char.predict_classes(img)\n",
    "                #print('str',a_str)\n",
    "                a_str = string.ascii_uppercase[a_str[0]]\n",
    "                #print(a_str)\n",
    "                d[cnt] = rect[0]\n",
    "                cnt=cnt+1\n",
    "#             print('d', d)\n",
    "            s += str(a_str)\n",
    "        data=['Path','Character','Image_Name','Prediction']\n",
    "        with open('/home/Sandeep/name.csv','a',newline='') as f:\n",
    "            writer=csv.writer(f,delimiter=',')\n",
    "            writer.writerow([image_path.split('/')[4].split('.')[0],image_path.split('/')[5].split('.')[0],image_path.split('/')[6].split('.')[0],s])\n",
    "            f.close()\n",
    "        x = list(d.values())\n",
    "        if (len(x)>=3):\n",
    "            y=[x[i+1]-x[i] for i in range(len(x)-1)]\n",
    "            s1 = s[0:(np.argmax(y)+1)]+' '+s[(np.argmax(y)+1):]    \n",
    "        else:\n",
    "            s1 = s\n",
    "        return s1\n",
    "# j=[]\n",
    "# h=[]\n",
    "# img=overlay\n",
    "# for i in range(img.shape[0]):\n",
    "#     h.append(img[i,:].sum())\n",
    "# for i in range(img.shape[0]):\n",
    "#     if img[i,:].sum()<0.80*max(h):\n",
    "#         j.append(i)\n",
    "# # print(c)\n",
    "# for i in j:\n",
    "#     img[i,:]=np.ones((1,img.shape[1]),dtype=int)*255\n",
    "\n",
    "# plt.figure(figsize=(16,16))\n",
    "# plt.imshow(img)\n",
    "# plt.show()"
   ]
  },
  {
   "cell_type": "code",
   "execution_count": 45,
   "metadata": {},
   "outputs": [
    {
     "data": {
      "image/png": "[encoded data removed]",
      "text/plain": [
       "<Figure size 432x288 with 1 Axes>"
      ]
     },
     "metadata": {},
     "output_type": "display_data"
    },
    {
     "data": {
      "image/png": "[encoded data removed]",
      "text/plain": [
       "<Figure size 432x288 with 1 Axes>"
      ]
     },
     "metadata": {},
     "output_type": "display_data"
    },
    {
     "data": {
      "image/png": "[encoded data removed]",
      "text/plain": [
       "<Figure size 432x288 with 1 Axes>"
      ]
     },
     "metadata": {},
     "output_type": "display_data"
    },
    {
     "data": {
      "text/plain": [
       "'NAQQY BYNF'"
      ]
     },
     "execution_count": 45,
     "metadata": {},
     "output_type": "execute_result"
    }
   ],
   "source": [
    "character_extraction('/home/Sandeep/something1.jpg', dico, model_char)"
   ]
  },
  {
   "cell_type": "code",
   "execution_count": 46,
   "metadata": {},
   "outputs": [],
   "source": [
    "model_char = load_model(\"/KALpydev/icr_pickle_files/CNN_Model/Character/CNN_Model_v2.h5\")\n",
    "with open(\"/KALpydev/icr_pickle_files/dictionary.p\",\"rb\") as f: \n",
    "        V, dico = pickle.load(f, encoding='latin1')"
   ]
  },
  {
   "cell_type": "code",
   "execution_count": 47,
   "metadata": {},
   "outputs": [],
   "source": [
    "def ones_padding(x):\n",
    "    y=np.ones([32,32])\n",
    "    y[2:30,2:30]=x\n",
    "    return(y)"
   ]
  },
  {
   "cell_type": "code",
   "execution_count": 48,
   "metadata": {},
   "outputs": [],
   "source": [
    "json_file = open('/KALpydev/icr_pickle_files/CNN_Model/model_alpha9.json', 'r')\n",
    "loaded_model_json = json_file.read()\n",
    "json_file.close()\n",
    "model_alphanum = model_from_json(loaded_model_json)\n",
    "model_alphanum.load_weights(\"/KALpydev/icr_pickle_files/CNN_Model/model_alpha9.h5\")"
   ]
  },
  {
   "cell_type": "markdown",
   "metadata": {},
   "source": [
    "# NUMERIC EXTRACTION"
   ]
  },
  {
   "cell_type": "code",
   "execution_count": 59,
   "metadata": {},
   "outputs": [],
   "source": [
    "def numeric_extraction(numeric_file, dico, model_numm):\n",
    "    print(numeric_file)\n",
    "    im = cv2.imread(numeric_file,0)\n",
    "    if im is not None:\n",
    "        im1=im.copy()\n",
    "        plt.imshow(im1)\n",
    "        plt.show()\n",
    "        ref = cv2.threshold(im1, 0, 255, cv2.THRESH_BINARY_INV | cv2.THRESH_OTSU)[1]\n",
    "        mask = np.zeros_like(ref)\n",
    "#         plt.imshow(mask)\n",
    "#         plt.show()\n",
    "        w = ref.shape[1]\n",
    "        shp = round(w * 0.15)\n",
    "        if shp % 2 == 0:\n",
    "            shp = shp + 1\n",
    "        kr = cv2.getStructuringElement(cv2.MORPH_RECT,(shp,1))\n",
    "        er = cv2.erode(ref, kr, 1)\n",
    "        kr = cv2.getStructuringElement(cv2.MORPH_RECT,(shp,1))\n",
    "        dl = cv2.dilate(er, kr, 1)\n",
    "        OriImg2 = im.copy()\n",
    "        img = dl\n",
    "        OrimgCopy = dl\n",
    "        added= cv2.add(cv2.bitwise_not(ref), dl)\n",
    "#         plt.imshow(added)\n",
    "#         plt.show()\n",
    "        (_, cnts, _) = cv2.findContours(cv2.bitwise_not(added).copy(), cv2.RETR_TREE, cv2.CHAIN_APPROX_SIMPLE)\n",
    "        cnts1 = [c for c in cnts if cv2.contourArea(c) < round(w*0.05)]    \n",
    "        for c in cnts1:\n",
    "            cv2.drawContours(mask, [c], -1, 255, 2)\n",
    "        plt.imshow(mask)\n",
    "        plt.show()\n",
    "        img_output = cv2.bitwise_not(cv2.add(added,mask))\n",
    "        plt.imshow(img_output)\n",
    "        plt.show()\n",
    "        img,ctrs,hier = cv2.findContours(img_output.copy(), cv2.RETR_EXTERNAL, cv2.CHAIN_APPROX_SIMPLE)\n",
    "#         areas = [cv2.contourArea(ctr) for ctr in ctrs]\n",
    "#         mean = np.mean(areas)\n",
    "#         x = 0\n",
    "#         i = []\n",
    "#         cv2.imwrite('/home/New folder/image.jpg',img)\n",
    "#         for area in areas:\n",
    "#             if area < (0.50 * mean):\n",
    "#                 i.extend([x])\n",
    "#                 x=x+1\n",
    "#             else:\n",
    "#                 x=x+1\n",
    "        rects = [cv2.boundingRect(ctr) for ctr in ctrs]\n",
    "    #         print(\"rects\", rects)\n",
    "        rect2 = np.array(rects, 'int')\n",
    "    #         print(\"rect2\", rect2.shape)\n",
    "        col = 0\n",
    "        try:\n",
    "            rect2 = rect2[np.argsort(rect2[:,col])]\n",
    "        except IndexError:\n",
    "            rect2 = rects\n",
    "        li = []\n",
    "        s=\"\"\n",
    "        O_copy = OriImg2.copy()\n",
    "        d={}\n",
    "        cnt = 0\n",
    "        #cv2.imwrite('/home/New folder/image1.jpg',O_copy)\n",
    "        for j,rect in enumerate(rect2):\n",
    "            leng = int(rect[3] * 1.05)\n",
    "            pt1 = int(rect[1] + rect[3] // 2 - leng // 2)\n",
    "            pt2 = int(rect[0] + rect[2] // 2 - leng // 2)\n",
    "            #print(leng,pt1,pt2)\n",
    "            roi = OriImg2[pt1:pt1+leng, pt2:pt2+leng]\n",
    "#             plt.imshow(roi)\n",
    "#             plt.show()\n",
    "            newroi=OriImg2[rect[1]:rect[1]+rect[3],rect[0]:rect[0]+rect[2]]\n",
    "#             plt.imshow(newroi)\n",
    "#             plt.show()\n",
    "            a_str=''\n",
    "            if roi.shape[0] >= 28 and roi.shape[1] >= 28:\n",
    "                roi = cv2.resize(roi, (28, 28), cv2.INTER_AREA)\n",
    "                newroi = cv2.resize(newroi, (28, 28), cv2.INTER_AREA)\n",
    "#                 plt.imshow(roi)\n",
    "#                 plt.show()\n",
    "#                 plt.imshow(newroi)\n",
    "#                 plt.show()\n",
    "                ret1, im_th1 = cv2.threshold(roi, 190, 255, cv2.THRESH_BINARY)\n",
    "                img = im_th1.astype('float32')\n",
    "                img = resize(img, (28,28), order=1, preserve_range=True)\n",
    "                img = img/255\n",
    "                img = resize(ones_padding(img), (28,28), order=1, preserve_range=True)\n",
    "                img = img.reshape((1,28,28,1))\n",
    "                a_str = model_numm.predict_classes(img)\n",
    "    #                 print('Prediction')\n",
    "    #                 print(a_str)\n",
    "    #                 print('\\n#############\\n') \n",
    "            s+=str(a_str)\n",
    "        s=s.replace('[','').replace(']','')\n",
    "        with open('/home/Sandeep/name.csv','a',newline='') as f:\n",
    "            writer=csv.writer(f,delimiter=',')\n",
    "            writer.writerow([image_path.split('/')[4].split('.')[0],image_path.split('/')[5].split('.')[0],image_path.split('/')[6].split('.')[0],s])\n",
    "            f.close()\n",
    "        #print(s)\n",
    "        return s"
   ]
  },
  {
   "cell_type": "code",
   "execution_count": 62,
   "metadata": {},
   "outputs": [
    {
     "name": "stdout",
     "output_type": "stream",
     "text": [
      "/home/Sandeep/Without_Grid/87395726_WithoutGrid/Numeric/Pincode.jpg\n"
     ]
    },
    {
     "data": {
      "image/png": "[encoded data removed]",
      "text/plain": [
       "<Figure size 432x288 with 1 Axes>"
      ]
     },
     "metadata": {},
     "output_type": "display_data"
    },
    {
     "data": {
      "image/png": "[encoded data removed]",
      "text/plain": [
       "<Figure size 432x288 with 1 Axes>"
      ]
     },
     "metadata": {},
     "output_type": "display_data"
    },
    {
     "data": {
      "image/png": "[encoded data removed]",
      "text/plain": [
       "<Figure size 432x288 with 1 Axes>"
      ]
     },
     "metadata": {},
     "output_type": "display_data"
    },
    {
     "data": {
      "text/plain": [
       "'458001'"
      ]
     },
     "execution_count": 62,
     "metadata": {},
     "output_type": "execute_result"
    }
   ],
   "source": [
    "numeric_extraction('/home/Sandeep/Without_Grid/87395726_WithoutGrid/Numeric/Pincode.jpg', dico, model_numm)"
   ]
  },
  {
   "cell_type": "code",
   "execution_count": 51,
   "metadata": {},
   "outputs": [],
   "source": [
    " model_numm = load_model(\"/KALpydev/icr_pickle_files/CNN_Model/Numeric/CNN_Model_v2.h5\")"
   ]
  },
  {
   "cell_type": "code",
   "execution_count": 1,
   "metadata": {},
   "outputs": [],
   "source": [
    "# for image_path in glob.glob(os.path.join('/home/Sandeep/','*/*/*/*.jpg')):\n",
    "#     bname=image_path.split('/')[5].split('.')[0]\n",
    "#     if  bname=='Numeric':\n",
    "#         print(numeric_extraction(image_path, dico, model_numm))"
   ]
  },
  {
   "cell_type": "code",
   "execution_count": 2,
   "metadata": {},
   "outputs": [],
   "source": [
    "# for image_path in glob.glob(os.path.join('/home/Sandeep/','*/*/*/*.jpg')):\n",
    "#     bname=image_path.split('/')[5].split('.')[0]\n",
    "#     #print(bname)\n",
    "#     if  bname=='Numeric':\n",
    "#         print(numeric_extraction(image_path, dico, model_numm))\n",
    "#     if  bname=='Alpha Numeric':\n",
    "#         try:\n",
    "#             print(alphanumeric_extraction(image_path, dico, model_alphanum))\n",
    "#         except:\n",
    "#             pass\n",
    "#     if  bname=='Character':\n",
    "#         print(character_extraction(image_path, dico, model_char))\n",
    "        "
   ]
  },
  {
   "cell_type": "code",
   "execution_count": 52,
   "metadata": {},
   "outputs": [],
   "source": [
    "def decode_class(s):\n",
    "    if s in [i for i in range(10)]:\n",
    "        return(str(s[0]))\n",
    "    elif s==10:\n",
    "        return('A')\n",
    "    elif s==11:\n",
    "        return('@')\n",
    "    elif s==12:\n",
    "        return('B')\n",
    "    elif s==13:\n",
    "        return('C')\n",
    "    elif s==14:\n",
    "        return('D')\n",
    "    elif s==15:\n",
    "        return('E')\n",
    "    elif s==16:\n",
    "        return('F')\n",
    "    elif s==17:\n",
    "        return('G')\n",
    "    elif s==18:\n",
    "        return('H')\n",
    "    elif s==19:\n",
    "        return('I')\n",
    "    elif s==20:\n",
    "        return('J')\n",
    "    elif s==21:\n",
    "        return('K')\n",
    "    elif s==22:\n",
    "        return('L')\n",
    "    elif s==23:\n",
    "        return('M')\n",
    "    elif s==24:\n",
    "        return('N')\n",
    "    elif s==25:\n",
    "        return('O')\n",
    "    elif s==26:\n",
    "        return('P')\n",
    "    elif s==27:\n",
    "        return('Q')\n",
    "    elif s==28:\n",
    "        return('R')\n",
    "    elif s==29:\n",
    "        return('Rs.')\n",
    "    elif s==30:\n",
    "        return('S')\n",
    "    elif s==31:\n",
    "        return('T')\n",
    "    elif s==32:\n",
    "        return('U')\n",
    "    elif s==33:\n",
    "        return('V')\n",
    "    elif s==34:\n",
    "        return('W')\n",
    "    elif s==35:\n",
    "        return('X')\n",
    "    elif s==36:\n",
    "        return('Y')\n",
    "    elif s==37:\n",
    "        return('Z')"
   ]
  },
  {
   "cell_type": "markdown",
   "metadata": {},
   "source": [
    "# ALPHANUMERIC EXTRACTION"
   ]
  },
  {
   "cell_type": "code",
   "execution_count": 53,
   "metadata": {},
   "outputs": [],
   "source": [
    "def alphanumeric_extraction(character_file, dico, model_alphanum):\n",
    "    im = cv2.imread(character_file,0)\n",
    "    if im is not None:\n",
    "        im1=im.copy()\n",
    "        plt.imshow(im1)\n",
    "        plt.show()\n",
    "        ref = cv2.threshold(im1, 0, 255, cv2.THRESH_BINARY_INV | cv2.THRESH_OTSU)[1]\n",
    "        mask = np.zeros_like(ref)\n",
    "#         plt.imshow(mask)\n",
    "#         plt.show()\n",
    "        w = ref.shape[1]\n",
    "        shp = round(w * 0.15)\n",
    "        if shp % 2 == 0:\n",
    "            shp = shp + 1\n",
    "        kr = cv2.getStructuringElement(cv2.MORPH_RECT,(shp,1))\n",
    "        er = cv2.erode(ref, kr, 1)\n",
    "        kr = cv2.getStructuringElement(cv2.MORPH_RECT,(shp,1))\n",
    "        dl = cv2.dilate(er, kr, 1)\n",
    "        OriImg2 = im.copy()\n",
    "        img = dl\n",
    "        OrimgCopy = dl\n",
    "        added= cv2.add(cv2.bitwise_not(ref), dl)\n",
    "#         plt.imshow(added)\n",
    "#         plt.show()\n",
    "        (_, cnts, _) = cv2.findContours(cv2.bitwise_not(added).copy(), cv2.RETR_TREE, cv2.CHAIN_APPROX_SIMPLE)\n",
    "        cnts1 = [c for c in cnts if cv2.contourArea(c) < round(w*0.05)]    \n",
    "        for c in cnts1:\n",
    "            cv2.drawContours(mask, [c], -1, 255, 2)\n",
    "        plt.imshow(mask)\n",
    "        plt.show()\n",
    "        img_output = cv2.bitwise_not(cv2.add(added,mask))\n",
    "        plt.imshow(img_output)\n",
    "        plt.show()\n",
    "        img,ctrs,hier = cv2.findContours(img_output.copy(), cv2.RETR_EXTERNAL, cv2.CHAIN_APPROX_SIMPLE)\n",
    "#         areas = [cv2.contourArea(ctr) for ctr in ctrs]\n",
    "#         mean = np.mean(areas)\n",
    "#         x = 0\n",
    "#         i = []\n",
    "#         cv2.imwrite('/home/New folder/image.jpg',img)\n",
    "#         for area in areas:\n",
    "#             if area < (0.50 * mean):\n",
    "#                 i.extend([x])\n",
    "#                 x=x+1\n",
    "#             else:\n",
    "#                 x=x+1\n",
    "        rects = [cv2.boundingRect(ctr) for ctr in ctrs]\n",
    "    #         print(\"rects\", rects)\n",
    "        rect2 = np.array(rects, 'int')\n",
    "    #         print(\"rect2\", rect2.shape)\n",
    "        col = 0\n",
    "        try:\n",
    "            rect2 = rect2[np.argsort(rect2[:,col])]\n",
    "        except IndexError:\n",
    "            rect2 = rects\n",
    "        li = []\n",
    "        s=\"\"\n",
    "        O_copy = OriImg2.copy()\n",
    "        d={}\n",
    "        cnt = 0\n",
    "        #cv2.imwrite('/home/New folder/image1.jpg',O_copy)\n",
    "        for j,rect in enumerate(rect2):\n",
    "            leng = int(rect[3] * 1.05)\n",
    "            pt1 = int(rect[1] + rect[3] // 2 - leng // 2)\n",
    "            pt2 = int(rect[0] + rect[2] // 2 - leng // 2)\n",
    "            #print(leng,pt1,pt2)\n",
    "            roi = OriImg2[pt1:pt1+leng, pt2:pt2+leng]\n",
    "        for j,rect in enumerate(rect2):\n",
    "            #newImg = cv2.rectangle(O_copy, (rect[0], rect[1]), (rect[0] + rect[2], rect[1] + rect[3]), (0, 255, 0), 3)\n",
    "#             newImg2 = cv2.bitwise_not(newImg1) \n",
    "            leng = int(rect[3] * 1.05)\n",
    "            pt1 = int(rect[1] + rect[3] // 2 - leng // 2)\n",
    "            pt2 = int(rect[0] + rect[2] // 2 - leng // 2)\n",
    "            roi = OriImg2[pt1:pt1+leng, pt2:pt2+leng]\n",
    "\n",
    "#             print('ROI')\n",
    "#             plt.imshow(roi)\n",
    "#             plt.show()\n",
    "            a_str=''\n",
    "            if roi.shape[0] >= 28 and roi.shape[1] >= 28:\n",
    "                \n",
    "#                 roi = cv2.cvtColor(roi, cv2.COLOR_BGR2GRAY)\n",
    "                roi = cv2.resize(roi,(28,28))\n",
    "                roi = np.array(roi)\n",
    "                roi = roi.astype('float32')\n",
    "                roi /= 255\n",
    "                        #print (test_image.shape)\n",
    "                roi = np.expand_dims(roi, axis=0)\n",
    "                img = np.expand_dims(roi, axis=0)\n",
    "                \n",
    "#                 roi = cv2.resize(roi, (28, 28), cv2.INTER_AREA)\n",
    "\n",
    "# #                 print('ROI-After Resizing')\n",
    "# #                 plt.imshow(roi)\n",
    "# #                 plt.show()\n",
    "# #                     ret1, im_th1 = cv2.threshold(roi, 127, 255, cv2.THRESH_BINARY_INV)\n",
    "#                 img = im_th1.astype('float32')\n",
    "#                 img = 255-img\n",
    "#                 img = img/255\n",
    "#                 img = img.reshape((1,1,28,28))\n",
    "\n",
    "                a_str = model_alphanum.predict_classes(img)\n",
    "                a_str = str(decode_class(a_str))\n",
    "#                 print(a_str[0])\n",
    "                #a_str = string.ascii_uppercase[a_str[0]]\n",
    "            s += str(a_str)\n",
    "        with open('/home/Sandeep/name.csv','a',newline='') as f:\n",
    "            writer=csv.writer(f,delimiter=',')\n",
    "            writer.writerow([image_path.split('/')[4].split('.')[0],image_path.split('/')[5].split('.')[0],image_path.split('/')[6].split('.')[0],s])\n",
    "            f.close()\n",
    "        #print(s, decode_class(s))\n",
    "        return s"
   ]
  },
  {
   "cell_type": "code",
   "execution_count": 54,
   "metadata": {},
   "outputs": [
    {
     "data": {
      "image/png": "[encoded data removed]",
      "text/plain": [
       "<Figure size 432x288 with 1 Axes>"
      ]
     },
     "metadata": {},
     "output_type": "display_data"
    },
    {
     "data": {
      "image/png": "[encoded data removed]",
      "text/plain": [
       "<Figure size 432x288 with 1 Axes>"
      ]
     },
     "metadata": {},
     "output_type": "display_data"
    },
    {
     "data": {
      "image/png": "[encoded data removed]",
      "text/plain": [
       "<Figure size 432x288 with 1 Axes>"
      ]
     },
     "metadata": {},
     "output_type": "display_data"
    },
    {
     "data": {
      "text/plain": [
       "'1O7449'"
      ]
     },
     "execution_count": 54,
     "metadata": {},
     "output_type": "execute_result"
    }
   ],
   "source": [
    "alphanumeric_extraction('/home/Sandeep/Without_Grid/87609947_WithoutGrid/Alpha Numeric/Chasis Number.jpg', dico, model_alphanum)"
   ]
  },
  {
   "cell_type": "code",
   "execution_count": 3,
   "metadata": {},
   "outputs": [],
   "source": [
    "# for image_path in glob.glob(os.path.join('/home/Sandeep/','*/*/*/*.jpg')):\n",
    "#     fname=image_path.split('/')[4].split('.')[0]\n",
    "#     #print(fname)\n",
    "#     bname=image_path.split('/')[5].split('.')[0]\n",
    "#     #print(bname)\n",
    "#     if  bname=='Alpha Numeric':\n",
    "#         try:\n",
    "#             print(alphanumeric_extraction(image_path, dico, model_char))\n",
    "#         except:\n",
    "#             pass"
   ]
  },
  {
   "cell_type": "code",
   "execution_count": 24,
   "metadata": {},
   "outputs": [
    {
     "data": {
      "text/plain": [
       "'/root/bagic_grid'"
      ]
     },
     "execution_count": 24,
     "metadata": {},
     "output_type": "execute_result"
    }
   ],
   "source": [
    "os.getcwd()"
   ]
  },
  {
   "cell_type": "code",
   "execution_count": null,
   "metadata": {},
   "outputs": [],
   "source": []
  }
 ],
 "metadata": {
  "kernelspec": {
   "display_name": "Python 3",
   "language": "python",
   "name": "python3"
  },
  "language_info": {
   "codemirror_mode": {
    "name": "ipython",
    "version": 3
   },
   "file_extension": ".py",
   "mimetype": "text/x-python",
   "name": "python",
   "nbconvert_exporter": "python",
   "pygments_lexer": "ipython3",
   "version": "3.6.5"
  }
 },
 "nbformat": 4,
 "nbformat_minor": 2
}
